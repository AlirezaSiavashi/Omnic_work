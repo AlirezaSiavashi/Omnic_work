{
 "cells": [
  {
   "cell_type": "markdown",
   "id": "d037a6f6-8f80-4bf5-99bc-2efd4f6e8d29",
   "metadata": {},
   "source": [
    "# Task 3: Feature importance"
   ]
  },
  {
   "cell_type": "code",
   "execution_count": 7,
   "id": "ecd7073c-4e04-4219-b1f4-f1b6c88a5707",
   "metadata": {
    "tags": []
   },
   "outputs": [],
   "source": [
    "import pickle\n",
    "import numpy as np\n",
    "import pandas as pd\n",
    "from sklearn.datasets import make_regression\n",
    "from sklearn.linear_model import RidgeCV, LinearRegression, Ridge\n",
    "from scipy.stats import pearsonr\n",
    "from sklearn.pipeline import make_pipeline\n",
    "from sklearn.preprocessing import StandardScaler\n",
    "import seaborn as sns\n",
    "import matplotlib.pyplot as plt\n"
   ]
  },
  {
   "cell_type": "markdown",
   "id": "68577b4e-0792-4e99-9759-94daa126f736",
   "metadata": {},
   "source": [
    "## Load data"
   ]
  },
  {
   "cell_type": "code",
   "execution_count": 6,
   "id": "39648f19-a15c-491f-99d8-82f4fb16ff33",
   "metadata": {
    "tags": []
   },
   "outputs": [
    {
     "name": "stdout",
     "output_type": "stream",
     "text": [
      "(1000, 10)\n",
      "(1000,)\n"
     ]
    }
   ],
   "source": [
    "with open(\"./task3_feature-importance_data.pickle\", \"rb\") as f:\n",
    "    X, y = pickle.load(f)\n",
    "print(X.shape)\n",
    "print(y.shape)\n"
   ]
  },
  {
   "cell_type": "markdown",
   "id": "908439a8-7034-4858-bd22-3c4d1778ce99",
   "metadata": {},
   "source": [
    "## Fit model"
   ]
  },
  {
   "cell_type": "code",
   "execution_count": 20,
   "id": "19f20262-9fae-49dd-980a-b5cf20ffebdc",
   "metadata": {
    "tags": []
   },
   "outputs": [
    {
     "data": {
      "text/plain": [
       "Pipeline(steps=[('standardscaler', StandardScaler()),\n",
       "                ('ridgecv', RidgeCV(alphas=array([ 0.1,  1. , 10. ])))])"
      ]
     },
     "execution_count": 20,
     "metadata": {},
     "output_type": "execute_result"
    }
   ],
   "source": [
    "model = make_pipeline(StandardScaler(), RidgeCV())\n",
    "model.fit(X, y)\n"
   ]
  },
  {
   "cell_type": "markdown",
   "id": "dbd04307-8af6-4210-b49d-7c1628c4d83f",
   "metadata": {},
   "source": [
    "## Analyse correlations and model coefficients"
   ]
  },
  {
   "cell_type": "code",
   "execution_count": 4,
   "id": "42111095-046a-4a95-8776-54fea339491a",
   "metadata": {
    "tags": []
   },
   "outputs": [],
   "source": [
    "correlations_r = [pearsonr(X[:, i], y)[0] for i in range(X.shape[1])]\n",
    "correlations_p = [pearsonr(X[:, i], y)[1] for i in range(X.shape[1])]"
   ]
  },
  {
   "cell_type": "code",
   "execution_count": 30,
   "id": "655032af-d823-45a6-a9db-579408e34221",
   "metadata": {
    "tags": []
   },
   "outputs": [
    {
     "data": {
      "text/html": [
       "<div>\n",
       "<style scoped>\n",
       "    .dataframe tbody tr th:only-of-type {\n",
       "        vertical-align: middle;\n",
       "    }\n",
       "\n",
       "    .dataframe tbody tr th {\n",
       "        vertical-align: top;\n",
       "    }\n",
       "\n",
       "    .dataframe thead th {\n",
       "        text-align: right;\n",
       "    }\n",
       "</style>\n",
       "<table border=\"1\" class=\"dataframe\">\n",
       "  <thead>\n",
       "    <tr style=\"text-align: right;\">\n",
       "      <th></th>\n",
       "      <th>coef</th>\n",
       "      <th>correlation r</th>\n",
       "      <th>correlation p</th>\n",
       "    </tr>\n",
       "  </thead>\n",
       "  <tbody>\n",
       "    <tr>\n",
       "      <th>feature 0</th>\n",
       "      <td>-1.529528</td>\n",
       "      <td>-0.034627</td>\n",
       "      <td>2.739660e-01</td>\n",
       "    </tr>\n",
       "    <tr>\n",
       "      <th>feature 1</th>\n",
       "      <td>0.516905</td>\n",
       "      <td>0.009749</td>\n",
       "      <td>7.581588e-01</td>\n",
       "    </tr>\n",
       "    <tr>\n",
       "      <th>feature 2</th>\n",
       "      <td>59.958697</td>\n",
       "      <td>0.496610</td>\n",
       "      <td>2.160929e-63</td>\n",
       "    </tr>\n",
       "    <tr>\n",
       "      <th>feature 3</th>\n",
       "      <td>0.053120</td>\n",
       "      <td>0.049881</td>\n",
       "      <td>1.149366e-01</td>\n",
       "    </tr>\n",
       "    <tr>\n",
       "      <th>feature 4</th>\n",
       "      <td>68.390912</td>\n",
       "      <td>0.554580</td>\n",
       "      <td>1.019725e-81</td>\n",
       "    </tr>\n",
       "    <tr>\n",
       "      <th>feature 5</th>\n",
       "      <td>72.159892</td>\n",
       "      <td>0.577704</td>\n",
       "      <td>4.339895e-90</td>\n",
       "    </tr>\n",
       "    <tr>\n",
       "      <th>feature 6</th>\n",
       "      <td>-2.134884</td>\n",
       "      <td>-0.021040</td>\n",
       "      <td>5.063249e-01</td>\n",
       "    </tr>\n",
       "    <tr>\n",
       "      <th>feature 7</th>\n",
       "      <td>39.197821</td>\n",
       "      <td>-0.009722</td>\n",
       "      <td>7.588043e-01</td>\n",
       "    </tr>\n",
       "    <tr>\n",
       "      <th>feature 8</th>\n",
       "      <td>40.087218</td>\n",
       "      <td>0.024289</td>\n",
       "      <td>4.429447e-01</td>\n",
       "    </tr>\n",
       "    <tr>\n",
       "      <th>feature 9</th>\n",
       "      <td>1.915710</td>\n",
       "      <td>0.013164</td>\n",
       "      <td>6.775740e-01</td>\n",
       "    </tr>\n",
       "  </tbody>\n",
       "</table>\n",
       "</div>"
      ],
      "text/plain": [
       "                coef  correlation r  correlation p\n",
       "feature 0  -1.529528      -0.034627   2.739660e-01\n",
       "feature 1   0.516905       0.009749   7.581588e-01\n",
       "feature 2  59.958697       0.496610   2.160929e-63\n",
       "feature 3   0.053120       0.049881   1.149366e-01\n",
       "feature 4  68.390912       0.554580   1.019725e-81\n",
       "feature 5  72.159892       0.577704   4.339895e-90\n",
       "feature 6  -2.134884      -0.021040   5.063249e-01\n",
       "feature 7  39.197821      -0.009722   7.588043e-01\n",
       "feature 8  40.087218       0.024289   4.429447e-01\n",
       "feature 9   1.915710       0.013164   6.775740e-01"
      ]
     },
     "execution_count": 30,
     "metadata": {},
     "output_type": "execute_result"
    }
   ],
   "source": [
    "df = pd.DataFrame({\n",
    "        \"coef\": model[\"ridgecv\"].coef_, \n",
    "        \"correlation r\": correlations_r, \n",
    "        \"correlation p\": correlations_p}, \n",
    "    index=[f\"feature {i}\" for i in range(X.shape[1])])\n",
    "df"
   ]
  },
  {
   "cell_type": "code",
   "execution_count": 31,
   "id": "f2174c0c-5482-4f6b-82e8-e57aa9704550",
   "metadata": {
    "tags": []
   },
   "outputs": [
    {
     "data": {
      "text/plain": [
       "(array([0., 1.]), array([0., 1.]))"
      ]
     },
     "execution_count": 31,
     "metadata": {},
     "output_type": "execute_result"
    }
   ],
   "source": [
    "# feature 7 and 8 are binary\n",
    "np.unique(X[:,7]), np.unique(X[:,8])"
   ]
  },
  {
   "cell_type": "code",
   "execution_count": 32,
   "id": "94e191b4-3043-48c8-9ce2-9da4a5b268c2",
   "metadata": {
    "tags": []
   },
   "outputs": [
    {
     "data": {
      "text/plain": [
       "0"
      ]
     },
     "execution_count": 32,
     "metadata": {},
     "output_type": "execute_result"
    }
   ],
   "source": [
    "# feature 7 and 8 are mutually exclusive\n",
    "((X[:,7] == 1) & (X[:,8] == 1)).sum()"
   ]
  },
  {
   "cell_type": "code",
   "execution_count": 33,
   "id": "f57fa0f9-ad96-4fe7-a8ed-b6c9b39507ed",
   "metadata": {
    "tags": []
   },
   "outputs": [
    {
     "data": {
      "text/plain": [
       "0.99"
      ]
     },
     "execution_count": 33,
     "metadata": {},
     "output_type": "execute_result"
    }
   ],
   "source": [
    "# feature 7 and 8 nearly cover the whole dataset!\n",
    "((X[:,7] == 1) | (X[:,8] == 1)).sum() / X.shape[0]"
   ]
  },
  {
   "cell_type": "markdown",
   "id": "427a7189-cd59-4ee3-a88a-be272018ad31",
   "metadata": {},
   "source": [
    "## Tasks"
   ]
  },
  {
   "cell_type": "markdown",
   "id": "785a310e-b828-476a-b2df-9bf01adc2b6a",
   "metadata": {},
   "source": [
    "Feature 7 and 8 seem to be important features for the model (with coefficients > 30!). However, taking a closer look, they are both binary, mutually exclusive, and nearly cover the whole dataset. Also they are barely correlated to the outcome by themselves. I would not expect them to both have such a high importance for the model and on top of that both positive! What is going on?"
   ]
  },
  {
   "cell_type": "code",
   "execution_count": 16,
   "id": "b1e662d7",
   "metadata": {},
   "outputs": [],
   "source": [
    "df = pd.DataFrame(X)\n"
   ]
  },
  {
   "cell_type": "markdown",
   "id": "1eaf60be",
   "metadata": {},
   "source": [
    " calculating the correlation among the features to examine if there is a significant correlation between feature 7 and feature 8 with other features or not"
   ]
  },
  {
   "cell_type": "code",
   "execution_count": 17,
   "id": "3e32afcc",
   "metadata": {},
   "outputs": [
    {
     "data": {
      "image/png": "[encoded data removed]",
      "text/plain": [
       "<Figure size 720x576 with 2 Axes>"
      ]
     },
     "metadata": {
      "needs_background": "light"
     },
     "output_type": "display_data"
    }
   ],
   "source": [
    "corrolation_matrix = df.corr()\n",
    "plt.figure(figsize=(10,  8))  # Set the figure size\n",
    "sns.heatmap(corrolation_matrix, annot=True, cmap='coolwarm')\n",
    "\n",
    "# Show the plot\n",
    "plt.show()"
   ]
  },
  {
   "cell_type": "markdown",
   "id": "bd9d789a",
   "metadata": {},
   "source": [
    "feature 7 and 8 have strong negative relationships and they are mutually exclusive. Mutual exclusivity refers to the situation where two events cannot both occur at the same time. let's assume that we want to predict the weight of people from some features. the features are [\"is_male\",\"is_famale\",\"height\",\"waist size\",\"foot_size\", and etc...]. \"is_male\" and \"is_female\" are mutually exclusive because a person cannot be male and female simultaneously. also, they have a strong negative correlation meaning once “is_male” gets a value the other should get the opposite value. By this example, it is clear that being a man can have a very strong effect on predicting people's weight as men are usually heavier than women. So it is logical that these two features have a great weight. this is what happening in our example."
   ]
  },
  {
   "cell_type": "markdown",
   "id": "680f0e50",
   "metadata": {},
   "source": [
    "Furthermore, Pearson calculates the linear correlation between feature 7 and output and just the same for feature 8. Therefore, maybe features 7 and 8 do not correlate linearly to effect output. \n",
    "Moreover, Ridge regression introduces a penalty term to the loss function, which is essentially a sum of the squared values of the coefficients associated with the features, including features 7 and 8. Due to the inclusion of lambda*((feature7)^2 + (feature8)^2) in the penalty term, the coefficients for these features could potentially be inflated, especially since they account for the entire dataset. Consequently, this could lead to a suppression of other weights within the model. "
   ]
  },
  {
   "cell_type": "code",
   "execution_count": null,
   "id": "413d3de6",
   "metadata": {},
   "outputs": [],
   "source": []
  }
 ],
 "metadata": {
  "kernelspec": {
   "display_name": "Python 3",
   "language": "python",
   "name": "python3"
  },
  "language_info": {
   "codemirror_mode": {
    "name": "ipython",
    "version": 3
   },
   "file_extension": ".py",
   "mimetype": "text/x-python",
   "name": "python",
   "nbconvert_exporter": "python",
   "pygments_lexer": "ipython3",
   "version": "3.8.8"
  }
 },
 "nbformat": 4,
 "nbformat_minor": 5
}
